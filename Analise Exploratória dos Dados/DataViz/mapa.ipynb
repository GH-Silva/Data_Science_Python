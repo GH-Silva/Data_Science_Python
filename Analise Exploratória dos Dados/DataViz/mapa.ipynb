{
 "cells": [
  {
   "cell_type": "code",
   "execution_count": 1,
   "id": "d66e3c76",
   "metadata": {},
   "outputs": [],
   "source": [
    "import pandas as pd\n",
    "import folium as fl"
   ]
  },
  {
   "cell_type": "code",
   "execution_count": 2,
   "id": "392765ae",
   "metadata": {},
   "outputs": [],
   "source": [
    "### Importando os dados\n",
    "url = \"https://earthquake.usgs.gov/earthquakes/feed/v1.0/summary/all_week.csv\"\n",
    "dados_terremotos = pd.read_csv(url)"
   ]
  },
  {
   "cell_type": "code",
   "execution_count": 3,
   "id": "69f7611b",
   "metadata": {},
   "outputs": [],
   "source": [
    "### Filtrar os dados para obter terremotos mais significativos\n",
    "terremotos_significativos = dados_terremotos[dados_terremotos['mag']>=6.0]"
   ]
  },
  {
   "cell_type": "code",
   "execution_count": 4,
   "id": "c2d29a4a",
   "metadata": {},
   "outputs": [],
   "source": [
    "### Criando o mapa para visualização\n",
    "mapa_terremotos = fl.Map(location=[0,0], zoom_start=2)"
   ]
  },
  {
   "cell_type": "code",
   "execution_count": 5,
   "id": "1acea226",
   "metadata": {},
   "outputs": [],
   "source": [
    "### Adicionando marcadores terremotos significativos\n",
    "for index, terremoto in terremotos_significativos.iterrows():\n",
    "    fl.Marker(\n",
    "        location=[terremoto['latitude'], terremoto['longitude']],\n",
    "        popup=f'Magnitude:{terremoto[\"mag\"]}, Profundidade: {terremoto[\"depth\"]}',\n",
    "        icon=fl.Icon(color='red', icon='info-sign')\n",
    "        ).add_to(mapa_terremotos)"
   ]
  },
  {
   "cell_type": "code",
   "execution_count": 6,
   "id": "a018bf92",
   "metadata": {},
   "outputs": [],
   "source": [
    "mapa_terremotos.save('Data/mapa_terremotos.html')"
   ]
  }
 ],
 "metadata": {
  "kernelspec": {
   "display_name": "Python 3",
   "language": "python",
   "name": "python3"
  },
  "language_info": {
   "codemirror_mode": {
    "name": "ipython",
    "version": 3
   },
   "file_extension": ".py",
   "mimetype": "text/x-python",
   "name": "python",
   "nbconvert_exporter": "python",
   "pygments_lexer": "ipython3",
   "version": "3.13.2"
  }
 },
 "nbformat": 4,
 "nbformat_minor": 5
}
