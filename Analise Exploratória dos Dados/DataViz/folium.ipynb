{
 "cells": [
  {
   "cell_type": "markdown",
   "id": "0e7bb007",
   "metadata": {},
   "source": [
    "### Criar um mapa centrado em uma localização especifica:"
   ]
  },
  {
   "cell_type": "code",
   "execution_count": 21,
   "id": "fae54e79",
   "metadata": {},
   "outputs": [],
   "source": [
    "import folium"
   ]
  },
  {
   "cell_type": "code",
   "execution_count": 22,
   "id": "2215934a",
   "metadata": {},
   "outputs": [],
   "source": [
    "mapa = folium.Map(location=[-23.5505, - 46.6333], zoom_start=12)"
   ]
  },
  {
   "cell_type": "code",
   "execution_count": 23,
   "id": "176e915a",
   "metadata": {},
   "outputs": [],
   "source": [
    "cafeteiras = [\n",
    "    {\"localização\": [-23.5673, -46.6483], \"nome\": \"Cafeteira A\"},\n",
    "    {\"localização\": [-23.5685, -46.6621], \"nome\": \"Cafeteira B\"},\n",
    "    {\"localização\": [-23.5489, -46.6366], \"nome\": \"Cafeteira C\"},\n",
    "    {\"localização\": [-23.5550, -46.6250], \"nome\": \"Cafeteira C\"},\n",
    "]"
   ]
  },
  {
   "cell_type": "code",
   "execution_count": 24,
   "id": "172d43fa",
   "metadata": {},
   "outputs": [],
   "source": [
    "for cafe in cafeteiras:\n",
    "    folium.Marker(\n",
    "        location=cafe['localização'],\n",
    "        popup=cafe['nome'],\n",
    "        icon=folium.Icon(color='blue', icon='coffee')\n",
    "    ).add_to(mapa)"
   ]
  },
  {
   "cell_type": "code",
   "execution_count": 25,
   "id": "f23d6ba6",
   "metadata": {},
   "outputs": [],
   "source": [
    "mapa.save('Data/mapa.html')"
   ]
  }
 ],
 "metadata": {
  "kernelspec": {
   "display_name": "Python 3",
   "language": "python",
   "name": "python3"
  },
  "language_info": {
   "codemirror_mode": {
    "name": "ipython",
    "version": 3
   },
   "file_extension": ".py",
   "mimetype": "text/x-python",
   "name": "python",
   "nbconvert_exporter": "python",
   "pygments_lexer": "ipython3",
   "version": "3.13.2"
  }
 },
 "nbformat": 4,
 "nbformat_minor": 5
}
