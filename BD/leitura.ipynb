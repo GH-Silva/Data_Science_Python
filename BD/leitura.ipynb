{
 "cells": [
  {
   "cell_type": "code",
   "execution_count": 1,
   "id": "fb4fc6c5",
   "metadata": {},
   "outputs": [],
   "source": [
    "import sqlite3"
   ]
  },
  {
   "cell_type": "code",
   "execution_count": 2,
   "id": "6d0d5bef",
   "metadata": {},
   "outputs": [],
   "source": [
    "conexao = sqlite3.connect('titulo.db')\n",
    "cursor = conexao.cursor()"
   ]
  },
  {
   "cell_type": "code",
   "execution_count": 3,
   "id": "cdf5e644",
   "metadata": {},
   "outputs": [],
   "source": [
    "### Leitura dos dados\n",
    "dados = cursor.execute(\"SELECT * FROM filmes\")"
   ]
  },
  {
   "cell_type": "code",
   "execution_count": 4,
   "id": "7e1a6d8e",
   "metadata": {},
   "outputs": [
    {
     "name": "stdout",
     "output_type": "stream",
     "text": [
      "[(1, 'Super Mario Bros', 2022, 9.5), (2, 'Top Gun Maverick', 2022, 9.0), (3, 'Sonic', 2020, 8.0), (4, 'Sonic', 2020, 8.0)]\n"
     ]
    }
   ],
   "source": [
    "print(dados.fetchall())"
   ]
  }
 ],
 "metadata": {
  "kernelspec": {
   "display_name": "Python 3",
   "language": "python",
   "name": "python3"
  },
  "language_info": {
   "codemirror_mode": {
    "name": "ipython",
    "version": 3
   },
   "file_extension": ".py",
   "mimetype": "text/x-python",
   "name": "python",
   "nbconvert_exporter": "python",
   "pygments_lexer": "ipython3",
   "version": "3.13.2"
  }
 },
 "nbformat": 4,
 "nbformat_minor": 5
}
