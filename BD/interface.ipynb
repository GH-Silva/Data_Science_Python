{
 "cells": [
  {
   "cell_type": "code",
   "execution_count": 50,
   "id": "00831152",
   "metadata": {},
   "outputs": [],
   "source": [
    "import tkinter as tk\n",
    "import orm\n",
    "from tkinter import messagebox"
   ]
  },
  {
   "cell_type": "code",
   "execution_count": 51,
   "id": "f8a8e65f",
   "metadata": {},
   "outputs": [
    {
     "data": {
      "text/plain": [
       "''"
      ]
     },
     "execution_count": 51,
     "metadata": {},
     "output_type": "execute_result"
    }
   ],
   "source": [
    "### Interface Gráfica\n",
    "root = tk.Tk()\n",
    "root.title(\"Gerenciador de Filmes\")"
   ]
  },
  {
   "cell_type": "code",
   "execution_count": 52,
   "id": "8e8d2fd5",
   "metadata": {},
   "outputs": [],
   "source": [
    "def adicionar_filme():\n",
    "    nome = entry_nome.get()\n",
    "    ano = entry_ano.get()\n",
    "    nota = entry_nota.get()\n",
    "    orm.adicionar_filme(nome, ano, nota)\n",
    "    messagebox.showinfo(\"Sucesso\", \"Filme cadastrado com sucesso!\")\n",
    "\n",
    "def atualizar_filme():\n",
    "    id = entry_id.get()\n",
    "    nome = entry_nome.get()\n",
    "    ano = entry_ano.get()\n",
    "    nota = entry_nota.get()\n",
    "    orm.atualizar_filme(id, nome, ano, nota)\n",
    "    messagebox.showinfo(\"Sucesso\", \"Filme atualizado com sucesso!\")\n",
    "\n",
    "def excluir_filme():\n",
    "    id = entry_id.get()\n",
    "    orm.excluir_filme(id)\n",
    "    messagebox.showinfo(\"Sucesso\", \"Filme excluído com sucesso!\")\n",
    "\n",
    "button_adicionar = tk.Button(root, text=\"Adicionar Filme\", command=adicionar_filme)\n",
    "button_adicionar.grid(row=4, column=0, columnspan=2, pady=5)\n",
    "\n",
    "button_atualizar = tk.Button(root, text=\"Atualizar Filme\", command=atualizar_filme)\n",
    "button_atualizar.grid(row=5, column=0, columnspan=2, pady=5)\n",
    "\n",
    "button_excluir = tk.Button(root, text=\"Excluir Filme\", command=excluir_filme)\n",
    "button_excluir.grid(row=6, column=0, columnspan=2, pady=5)"
   ]
  },
  {
   "cell_type": "code",
   "execution_count": 53,
   "id": "92dffe44",
   "metadata": {},
   "outputs": [],
   "source": [
    "### Rótulos e Campos de Entrada\n",
    "label_id = tk.Label(root, text=\"ID:\")\n",
    "label_id.grid(row=0, column=0)\n",
    "entry_id = tk.Entry(root, width=50)\n",
    "entry_id.grid(row=0, column=1, padx=10, pady=5)\n",
    "\n",
    "label_nome = tk.Label(root, text=\"Nome:\")\n",
    "label_nome.grid(row=1, column=0)\n",
    "entry_nome = tk.Entry(root, width=50)\n",
    "entry_nome.grid(row=1, column=1, padx=10, pady=5)\n",
    "\n",
    "label_ano = tk.Label(root, text=\"Ano:\")\n",
    "label_ano.grid(row=2, column=0)\n",
    "entry_ano = tk.Entry(root, width=50)\n",
    "entry_ano.grid(row=2, column=1, padx=10, pady=5)\n",
    "\n",
    "label_nota = tk.Label(root, text=\"Ano:\")\n",
    "label_nota.grid(row=3, column=0)\n",
    "entry_nota = tk.Entry(root, width=50)\n",
    "entry_nota.grid(row=3, column=1, padx=10, pady=5)"
   ]
  },
  {
   "cell_type": "code",
   "execution_count": 54,
   "id": "1fbce6be",
   "metadata": {},
   "outputs": [],
   "source": [
    "root.mainloop()"
   ]
  }
 ],
 "metadata": {
  "kernelspec": {
   "display_name": "Python 3",
   "language": "python",
   "name": "python3"
  },
  "language_info": {
   "codemirror_mode": {
    "name": "ipython",
    "version": 3
   },
   "file_extension": ".py",
   "mimetype": "text/x-python",
   "name": "python",
   "nbconvert_exporter": "python",
   "pygments_lexer": "ipython3",
   "version": "3.13.2"
  }
 },
 "nbformat": 4,
 "nbformat_minor": 5
}
