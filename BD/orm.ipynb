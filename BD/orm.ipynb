{
 "cells": [
  {
   "cell_type": "code",
   "execution_count": 46,
   "id": "d24ced22",
   "metadata": {},
   "outputs": [],
   "source": [
    "from sqlalchemy import create_engine, Column, Integer, String, Float\n",
    "from sqlalchemy.ext.declarative import declarative_base\n",
    "from sqlalchemy.orm import sessionmaker"
   ]
  },
  {
   "cell_type": "code",
   "execution_count": 47,
   "id": "ae13c01a",
   "metadata": {},
   "outputs": [],
   "source": [
    "engine = create_engine(\"sqlite:///banco.db\", echo=True)"
   ]
  },
  {
   "cell_type": "code",
   "execution_count": 48,
   "id": "2fdac9ad",
   "metadata": {},
   "outputs": [
    {
     "name": "stderr",
     "output_type": "stream",
     "text": [
      "C:\\Users\\Gabriel\\AppData\\Local\\Temp\\ipykernel_12548\\4196137762.py:1: MovedIn20Warning: The ``declarative_base()`` function is now available as sqlalchemy.orm.declarative_base(). (deprecated since: 2.0) (Background on SQLAlchemy 2.0 at: https://sqlalche.me/e/b8d9)\n",
      "  Base = declarative_base()\n"
     ]
    }
   ],
   "source": [
    "Base = declarative_base()"
   ]
  },
  {
   "cell_type": "code",
   "execution_count": 49,
   "id": "c89ba17c",
   "metadata": {},
   "outputs": [],
   "source": [
    "class Filme(Base):\n",
    "        __tablename__ = \"filmes\"\n",
    "        id = Column(Integer, primary_key=True)\n",
    "        nome = Column(String, nullable=False)\n",
    "        ano = Column(Integer, nullable=False)\n",
    "        nota = Column(Float, nullable=False)"
   ]
  },
  {
   "cell_type": "code",
   "execution_count": 50,
   "id": "ebaa7fb3",
   "metadata": {},
   "outputs": [
    {
     "name": "stdout",
     "output_type": "stream",
     "text": [
      "2025-09-18 19:07:25,292 INFO sqlalchemy.engine.Engine BEGIN (implicit)\n",
      "2025-09-18 19:07:25,293 INFO sqlalchemy.engine.Engine PRAGMA main.table_info(\"filmes\")\n",
      "2025-09-18 19:07:25,293 INFO sqlalchemy.engine.Engine [raw sql] ()\n",
      "2025-09-18 19:07:25,295 INFO sqlalchemy.engine.Engine COMMIT\n"
     ]
    }
   ],
   "source": [
    "Base.metadata.create_all(engine)"
   ]
  },
  {
   "cell_type": "code",
   "execution_count": 51,
   "id": "d3faadba",
   "metadata": {},
   "outputs": [],
   "source": [
    "### Inserir Dados\n",
    "def adiciona_filme(nome, ano, nota):\n",
    "    Session = sessionmaker(bind=engine)\n",
    "    session = Session()\n",
    "    filme = Filme(nome=nome, ano=ano, nota=nota)\n",
    "    session.add(filme)\n",
    "    session.commit()\n",
    "    session.close()"
   ]
  },
  {
   "cell_type": "code",
   "execution_count": 52,
   "id": "421cef21",
   "metadata": {},
   "outputs": [],
   "source": [
    "#adiciona_filme(\"Mario\", 2022, 9.5)\n",
    "#adiciona_filme(\"Mario\", 2025, 8.0)"
   ]
  },
  {
   "cell_type": "code",
   "execution_count": 53,
   "id": "ef8f862c",
   "metadata": {},
   "outputs": [],
   "source": [
    "def atualiza_filme(id, nome=None, ano=None, nota=None):\n",
    "    Session = sessionmaker(bind=engine)\n",
    "    session = Session()\n",
    "    filme = session.query(Filme).filter_by(id=id).first()\n",
    "\n",
    "    if filme:\n",
    "        if nome is not None:\n",
    "            filme.nome = nome\n",
    "        if ano is not None:\n",
    "            filme.ano = ano\n",
    "        if nota is not None:\n",
    "            filme.nota = nota\n",
    "        session.commit()\n",
    "    session.close()"
   ]
  },
  {
   "cell_type": "code",
   "execution_count": 54,
   "id": "12c28f26",
   "metadata": {},
   "outputs": [],
   "source": [
    "#atualiza_filme(1, \"Homem Aranha\", 2016, 8.0)"
   ]
  },
  {
   "cell_type": "code",
   "execution_count": 55,
   "id": "8c184d9f",
   "metadata": {},
   "outputs": [],
   "source": [
    "### Excluir dados\n",
    "def exclui_filme(id):\n",
    "    Session = sessionmaker(bind=engine)\n",
    "    session = Session()\n",
    "    filme = session.query(Filme).filter_by(id=id).first()\n",
    "    if filme:\n",
    "        session.delete(filme)\n",
    "    \n",
    "    session.commit()\n",
    "    session.close()"
   ]
  },
  {
   "cell_type": "code",
   "execution_count": 56,
   "id": "b02a8ff8",
   "metadata": {},
   "outputs": [
    {
     "name": "stdout",
     "output_type": "stream",
     "text": [
      "2025-09-18 19:07:26,294 INFO sqlalchemy.engine.Engine BEGIN (implicit)\n",
      "2025-09-18 19:07:26,296 INFO sqlalchemy.engine.Engine SELECT filmes.id AS filmes_id, filmes.nome AS filmes_nome, filmes.ano AS filmes_ano, filmes.nota AS filmes_nota \n",
      "FROM filmes \n",
      "WHERE filmes.id = ?\n",
      " LIMIT ? OFFSET ?\n",
      "2025-09-18 19:07:26,297 INFO sqlalchemy.engine.Engine [generated in 0.00092s] (2, 1, 0)\n",
      "2025-09-18 19:07:26,299 INFO sqlalchemy.engine.Engine DELETE FROM filmes WHERE filmes.id = ?\n",
      "2025-09-18 19:07:26,300 INFO sqlalchemy.engine.Engine [generated in 0.00074s] (2,)\n",
      "2025-09-18 19:07:26,303 INFO sqlalchemy.engine.Engine COMMIT\n"
     ]
    }
   ],
   "source": [
    "exclui_filme(2)"
   ]
  }
 ],
 "metadata": {
  "kernelspec": {
   "display_name": "Python 3",
   "language": "python",
   "name": "python3"
  },
  "language_info": {
   "codemirror_mode": {
    "name": "ipython",
    "version": 3
   },
   "file_extension": ".py",
   "mimetype": "text/x-python",
   "name": "python",
   "nbconvert_exporter": "python",
   "pygments_lexer": "ipython3",
   "version": "3.13.2"
  }
 },
 "nbformat": 4,
 "nbformat_minor": 5
}
