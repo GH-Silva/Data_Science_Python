{
 "cells": [
  {
   "cell_type": "code",
   "execution_count": 10,
   "id": "3e79a5b9",
   "metadata": {},
   "outputs": [],
   "source": [
    "import sqlite3"
   ]
  },
  {
   "cell_type": "code",
   "execution_count": 11,
   "id": "7fb1583c",
   "metadata": {},
   "outputs": [],
   "source": [
    "conexao = sqlite3.connect('titulo.db')\n",
    "cursor = conexao.cursor()"
   ]
  },
  {
   "cell_type": "code",
   "execution_count": 12,
   "id": "b2b24a6b",
   "metadata": {},
   "outputs": [
    {
     "name": "stdout",
     "output_type": "stream",
     "text": [
      "Dados inseridos na tabela\n"
     ]
    }
   ],
   "source": [
    "### Inserindo dados\n",
    "cursor.execute(\n",
    "    \"\"\"\n",
    "        INSERT INTO filmes(nome, ano, nota)\n",
    "        VALUES ('Sonic', 2020, 8.0)\n",
    "    \"\"\"\n",
    "\n",
    ")\n",
    "\n",
    "conexao.commit()\n",
    "conexao.close()\n",
    "print(\"Dados inseridos na tabela\")"
   ]
  }
 ],
 "metadata": {
  "kernelspec": {
   "display_name": "Python 3",
   "language": "python",
   "name": "python3"
  },
  "language_info": {
   "codemirror_mode": {
    "name": "ipython",
    "version": 3
   },
   "file_extension": ".py",
   "mimetype": "text/x-python",
   "name": "python",
   "nbconvert_exporter": "python",
   "pygments_lexer": "ipython3",
   "version": "3.13.2"
  }
 },
 "nbformat": 4,
 "nbformat_minor": 5
}
