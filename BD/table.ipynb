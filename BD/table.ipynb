{
 "cells": [
  {
   "cell_type": "code",
   "execution_count": 5,
   "id": "703b9532",
   "metadata": {},
   "outputs": [],
   "source": [
    "import sqlite3"
   ]
  },
  {
   "cell_type": "code",
   "execution_count": 6,
   "id": "1e9c7b81",
   "metadata": {},
   "outputs": [],
   "source": [
    "### Conectando o banco de dados\n",
    "conexao = sqlite3.connect('titulo.db')"
   ]
  },
  {
   "cell_type": "code",
   "execution_count": null,
   "id": "7421d38c",
   "metadata": {},
   "outputs": [],
   "source": [
    "### Criando o cursos - operações no banco de dados\n",
    "cursor = conexao.cursor()"
   ]
  },
  {
   "cell_type": "code",
   "execution_count": null,
   "id": "beca3958",
   "metadata": {},
   "outputs": [
    {
     "data": {
      "text/plain": [
       "<sqlite3.Cursor at 0x2bfd8e359c0>"
      ]
     },
     "execution_count": 8,
     "metadata": {},
     "output_type": "execute_result"
    }
   ],
   "source": [
    "### Criando a tabela de filmes\n",
    "cursor.execute(\n",
    "    \"\"\"\n",
    "        CREATE TABLE filmes(\n",
    "            id INTEGER NOT NULL PRIMARY KEY AUTOINCREMENT,\n",
    "            nome TEXT NOT NULL,\n",
    "            ano INTEGER NOT NULL,\n",
    "            nota REAL NOT NULL\n",
    "        );\n",
    "    \"\"\"\n",
    ")"
   ]
  },
  {
   "cell_type": "code",
   "execution_count": 9,
   "id": "aab23e2d",
   "metadata": {},
   "outputs": [
    {
     "name": "stdout",
     "output_type": "stream",
     "text": [
      "Tabela Criada\n"
     ]
    }
   ],
   "source": [
    "### Fechando a conexão\n",
    "conexao.close()\n",
    "print(\"Tabela Criada\")"
   ]
  }
 ],
 "metadata": {
  "kernelspec": {
   "display_name": "Python 3",
   "language": "python",
   "name": "python3"
  },
  "language_info": {
   "codemirror_mode": {
    "name": "ipython",
    "version": 3
   },
   "file_extension": ".py",
   "mimetype": "text/x-python",
   "name": "python",
   "nbconvert_exporter": "python",
   "pygments_lexer": "ipython3",
   "version": "3.13.2"
  }
 },
 "nbformat": 4,
 "nbformat_minor": 5
}
