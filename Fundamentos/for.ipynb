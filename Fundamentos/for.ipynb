{
 "cells": [
  {
   "cell_type": "code",
   "execution_count": 15,
   "id": "64144658",
   "metadata": {},
   "outputs": [],
   "source": [
    "moviesList = [\"Titanic\", \"The Godfather\", \"Inception\", \"Jurassic Park\"]"
   ]
  },
  {
   "cell_type": "code",
   "execution_count": 16,
   "id": "8da79ee5",
   "metadata": {},
   "outputs": [
    {
     "name": "stdout",
     "output_type": "stream",
     "text": [
      "Titanic\n",
      "The Godfather\n",
      "Inception\n",
      "Jurassic Park\n"
     ]
    }
   ],
   "source": [
    "### Iterando valores de uma lista\n",
    "for movie in moviesList:\n",
    "    print(movie)\n",
    "\n",
    "for movie in moviesList:\n",
    "    if movie == \"Inception\":\n",
    "        break"
   ]
  },
  {
   "cell_type": "code",
   "execution_count": 17,
   "id": "c576fb28",
   "metadata": {},
   "outputs": [
    {
     "name": "stdout",
     "output_type": "stream",
     "text": [
      "Titanic\n",
      "The Godfather\n"
     ]
    }
   ],
   "source": [
    "### Quando a condição for atendida, o Loop será encerrado\n",
    "for movie in moviesList:\n",
    "    if movie == \"Inception\":\n",
    "        break\n",
    "    print(movie)"
   ]
  },
  {
   "cell_type": "code",
   "execution_count": 18,
   "id": "c309391e",
   "metadata": {},
   "outputs": [
    {
     "name": "stdout",
     "output_type": "stream",
     "text": [
      "Titanic\n",
      "The Godfather\n",
      "Jurassic Park\n"
     ]
    }
   ],
   "source": [
    "### Quando a condição for atendida, o Loop vai para próxima iteração\n",
    "for movie in moviesList:\n",
    "    if movie == \"Inception\":\n",
    "        continue\n",
    "    print(movie)"
   ]
  },
  {
   "cell_type": "code",
   "execution_count": 19,
   "id": "f895ad5c",
   "metadata": {},
   "outputs": [],
   "source": [
    "### Avaliação do filme\n",
    "movieName = input(\"Informe o nome do filme:\\n\")\n",
    "movieRating = int(input(\"Informe quantas avaliações deseja fazer:\\n\"))"
   ]
  },
  {
   "cell_type": "code",
   "execution_count": 20,
   "id": "1c5bea24",
   "metadata": {},
   "outputs": [],
   "source": [
    "total = 0\n",
    "for i in range(movieRating):\n",
    "    note = float(input(\"Informe a nota para o filme:\\n\"))\n",
    "    total += note\n",
    "\n",
    "if movieRating > 0:\n",
    "    avarage = total / movieRating\n",
    "\n",
    "else:\n",
    "    avarage = 0"
   ]
  },
  {
   "cell_type": "code",
   "execution_count": 21,
   "id": "607301b1",
   "metadata": {},
   "outputs": [
    {
     "name": "stdout",
     "output_type": "stream",
     "text": [
      "Média de avaliação do filme Mario é: 2.00\n"
     ]
    }
   ],
   "source": [
    "print(f\"Média de avaliação do filme {movieName} é: {avarage:.2f}\")"
   ]
  }
 ],
 "metadata": {
  "kernelspec": {
   "display_name": "Python 3",
   "language": "python",
   "name": "python3"
  },
  "language_info": {
   "codemirror_mode": {
    "name": "ipython",
    "version": 3
   },
   "file_extension": ".py",
   "mimetype": "text/x-python",
   "name": "python",
   "nbconvert_exporter": "python",
   "pygments_lexer": "ipython3",
   "version": "3.13.2"
  }
 },
 "nbformat": 4,
 "nbformat_minor": 5
}
