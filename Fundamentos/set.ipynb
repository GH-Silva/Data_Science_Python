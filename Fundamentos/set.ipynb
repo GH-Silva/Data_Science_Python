{
 "cells": [
  {
   "cell_type": "code",
   "execution_count": 8,
   "id": "503b2a00",
   "metadata": {},
   "outputs": [],
   "source": [
    "filmesSet = [\"Inception 2\", \"The String\", \"Maio Kart\", \"Alvin e os Esquilos\", \"Teste 123\"]"
   ]
  },
  {
   "cell_type": "code",
   "execution_count": 9,
   "id": "8b802299",
   "metadata": {},
   "outputs": [
    {
     "name": "stdout",
     "output_type": "stream",
     "text": [
      "<class 'list'>\n"
     ]
    }
   ],
   "source": [
    "print(type(filmesSet))"
   ]
  },
  {
   "cell_type": "code",
   "execution_count": 10,
   "id": "9e512318",
   "metadata": {},
   "outputs": [
    {
     "name": "stdout",
     "output_type": "stream",
     "text": [
      "5\n"
     ]
    }
   ],
   "source": [
    "# Buscar o tamanho do Set\n",
    "print(len(filmesSet))"
   ]
  },
  {
   "cell_type": "code",
   "execution_count": 11,
   "id": "65979889",
   "metadata": {},
   "outputs": [
    {
     "name": "stdout",
     "output_type": "stream",
     "text": [
      "{8.7, 'Inception 2', True}\n"
     ]
    }
   ],
   "source": [
    "# True e 1 são considerados o mesmo valor\n",
    "exe = {\"Inception 2\", True, 1, 8.7}\n",
    "print(exe)"
   ]
  }
 ],
 "metadata": {
  "kernelspec": {
   "display_name": "Python 3",
   "language": "python",
   "name": "python3"
  },
  "language_info": {
   "codemirror_mode": {
    "name": "ipython",
    "version": 3
   },
   "file_extension": ".py",
   "mimetype": "text/x-python",
   "name": "python",
   "nbconvert_exporter": "python",
   "pygments_lexer": "ipython3",
   "version": "3.13.2"
  }
 },
 "nbformat": 4,
 "nbformat_minor": 5
}
