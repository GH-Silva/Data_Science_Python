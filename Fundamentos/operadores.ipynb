{
 "cells": [
  {
   "cell_type": "code",
   "execution_count": 3,
   "id": "b779888b",
   "metadata": {},
   "outputs": [],
   "source": [
    "num1 = int(input(\"Informe o primeiro número:\\n\"))\n",
    "num2 = int(input(\"Informe o segundo número:\\n\"))"
   ]
  },
  {
   "cell_type": "code",
   "execution_count": 4,
   "id": "fc32cef5",
   "metadata": {},
   "outputs": [],
   "source": [
    "### Aritméticas\n",
    "sum = num1 + num2\n",
    "sub = num1 - num2\n",
    "div = num1 / num2\n",
    "mult = num1 * num2\n",
    "mod = num1 % num2\n",
    "exp = num1 ** num2"
   ]
  },
  {
   "cell_type": "code",
   "execution_count": 5,
   "id": "b5e33e45",
   "metadata": {},
   "outputs": [
    {
     "name": "stdout",
     "output_type": "stream",
     "text": [
      "10\n",
      "0\n",
      "1.0\n",
      "25\n",
      "0\n",
      "3125\n"
     ]
    }
   ],
   "source": [
    "print(sum)\n",
    "print(sub)\n",
    "print(div)\n",
    "print(mult)\n",
    "print(mod)\n",
    "print(exp)"
   ]
  }
 ],
 "metadata": {
  "kernelspec": {
   "display_name": "Python 3",
   "language": "python",
   "name": "python3"
  },
  "language_info": {
   "codemirror_mode": {
    "name": "ipython",
    "version": 3
   },
   "file_extension": ".py",
   "mimetype": "text/x-python",
   "name": "python",
   "nbconvert_exporter": "python",
   "pygments_lexer": "ipython3",
   "version": "3.13.2"
  }
 },
 "nbformat": 4,
 "nbformat_minor": 5
}
