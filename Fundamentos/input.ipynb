{
 "cells": [
  {
   "cell_type": "code",
   "execution_count": 7,
   "id": "dd007b0b",
   "metadata": {},
   "outputs": [],
   "source": [
    "### Utilizando o Input\n",
    "name = input(\"Informe o nome do filme:\\n\")\n",
    "yearLaunch = int(input(\"Informe o ano de lançamento do filme: \\n\"))\n",
    "noteMovie = float(input(\"Informe a nota do filme \\n\"))"
   ]
  },
  {
   "cell_type": "code",
   "execution_count": 8,
   "id": "2eeece6a",
   "metadata": {},
   "outputs": [
    {
     "name": "stdout",
     "output_type": "stream",
     "text": [
      "<class 'str'>\n",
      "<class 'int'>\n",
      "<class 'float'>\n"
     ]
    }
   ],
   "source": [
    "print(type(name))\n",
    "print(type(yearLaunch))\n",
    "print(type(noteMovie))"
   ]
  }
 ],
 "metadata": {
  "kernelspec": {
   "display_name": "Python 3",
   "language": "python",
   "name": "python3"
  },
  "language_info": {
   "codemirror_mode": {
    "name": "ipython",
    "version": 3
   },
   "file_extension": ".py",
   "mimetype": "text/x-python",
   "name": "python",
   "nbconvert_exporter": "python",
   "pygments_lexer": "ipython3",
   "version": "3.13.2"
  }
 },
 "nbformat": 4,
 "nbformat_minor": 5
}
