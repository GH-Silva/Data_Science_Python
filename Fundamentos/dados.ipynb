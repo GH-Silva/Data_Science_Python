{
 "cells": [
  {
   "cell_type": "code",
   "execution_count": 1,
   "id": "9498a1f9",
   "metadata": {},
   "outputs": [],
   "source": [
    "### PythonFlix\n",
    "\n",
    "name = \"Top Gun Maverick\"\n",
    "yearLaunch = 2023\n",
    "noteMovie = 9.5\n",
    "planIncluded = False"
   ]
  },
  {
   "cell_type": "code",
   "execution_count": 2,
   "id": "ed2c9b8d",
   "metadata": {},
   "outputs": [
    {
     "name": "stdout",
     "output_type": "stream",
     "text": [
      "Top Gun Maverick\n",
      "2023\n"
     ]
    }
   ],
   "source": [
    "print(name)\n",
    "print(yearLaunch)"
   ]
  },
  {
   "cell_type": "code",
   "execution_count": 3,
   "id": "bd7c4eb8",
   "metadata": {},
   "outputs": [
    {
     "name": "stdout",
     "output_type": "stream",
     "text": [
      "<class 'str'>\n",
      "<class 'int'>\n",
      "<class 'float'>\n",
      "<class 'bool'>\n"
     ]
    }
   ],
   "source": [
    "print(type(name))\n",
    "print(type(yearLaunch))\n",
    "print(type(noteMovie))\n",
    "print(type(planIncluded))"
   ]
  }
 ],
 "metadata": {
  "kernelspec": {
   "display_name": "Python 3",
   "language": "python",
   "name": "python3"
  },
  "language_info": {
   "codemirror_mode": {
    "name": "ipython",
    "version": 3
   },
   "file_extension": ".py",
   "mimetype": "text/x-python",
   "name": "python",
   "nbconvert_exporter": "python",
   "pygments_lexer": "ipython3",
   "version": "3.13.2"
  }
 },
 "nbformat": 4,
 "nbformat_minor": 5
}
