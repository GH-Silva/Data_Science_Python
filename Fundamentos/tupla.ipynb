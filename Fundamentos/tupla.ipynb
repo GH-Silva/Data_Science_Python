{
 "cells": [
  {
   "cell_type": "code",
   "execution_count": 28,
   "id": "868b376e",
   "metadata": {},
   "outputs": [],
   "source": [
    "filmesTupla = [\"Inception 2\", \"The String\", \"Maio Kart\", \"Alvin e os Esquilos\", \"Teste 123\"]"
   ]
  },
  {
   "cell_type": "code",
   "execution_count": 29,
   "id": "023e1860",
   "metadata": {},
   "outputs": [
    {
     "name": "stdout",
     "output_type": "stream",
     "text": [
      "['Inception 2', 'The String']\n"
     ]
    }
   ],
   "source": [
    "### Buscar os dois primeiros iténs da tupla\n",
    "print(filmesTupla[:2])"
   ]
  },
  {
   "cell_type": "code",
   "execution_count": 30,
   "id": "d616c90a",
   "metadata": {},
   "outputs": [
    {
     "name": "stdout",
     "output_type": "stream",
     "text": [
      "Teste 123\n"
     ]
    }
   ],
   "source": [
    "### Buscar o último item da tupla\n",
    "print(filmesTupla[-1])"
   ]
  },
  {
   "cell_type": "code",
   "execution_count": 31,
   "id": "bfa7a1a3",
   "metadata": {},
   "outputs": [
    {
     "name": "stdout",
     "output_type": "stream",
     "text": [
      "['Inception 2', 'The String', 'Maio Kart']\n"
     ]
    }
   ],
   "source": [
    "### Buscar filmes até uma determinada posição\n",
    "print(filmesTupla[:3])"
   ]
  },
  {
   "cell_type": "code",
   "execution_count": 32,
   "id": "022503e3",
   "metadata": {},
   "outputs": [
    {
     "name": "stdout",
     "output_type": "stream",
     "text": [
      "['Maio Kart', 'Alvin e os Esquilos', 'Teste 123']\n"
     ]
    }
   ],
   "source": [
    "### Buscar filmes de uma posição em diante\n",
    "print(filmesTupla[2:])"
   ]
  }
 ],
 "metadata": {
  "kernelspec": {
   "display_name": "Python 3",
   "language": "python",
   "name": "python3"
  },
  "language_info": {
   "codemirror_mode": {
    "name": "ipython",
    "version": 3
   },
   "file_extension": ".py",
   "mimetype": "text/x-python",
   "name": "python",
   "nbconvert_exporter": "python",
   "pygments_lexer": "ipython3",
   "version": "3.13.2"
  }
 },
 "nbformat": 4,
 "nbformat_minor": 5
}
