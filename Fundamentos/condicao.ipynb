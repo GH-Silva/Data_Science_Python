{
 "cells": [
  {
   "cell_type": "code",
   "execution_count": null,
   "id": "989ab4d5",
   "metadata": {},
   "outputs": [],
   "source": [
    "name = input(\"Informe o nome do filme\\n\")\n",
    "yearRelease = int(input(\"Informe o ano de lançamento:\\n\"))\n",
    "rating = float(input(\"Informe a nota de avaliação do filme\\n\"))"
   ]
  },
  {
   "cell_type": "code",
   "execution_count": null,
   "id": "ad8f2f98",
   "metadata": {},
   "outputs": [],
   "source": [
    "# Verifica se o filme é recomendado\n",
    "if rating > 8.0 and yearRelease > 2025:\n",
    "    print(f\"O filme{name} é muito bom! Recomendo assisti-lo.\")\n",
    "else:\n",
    "    print(f\"O filme {name} ainda não atingiu uma boa nota!\")"
   ]
  },
  {
   "cell_type": "markdown",
   "id": "04ae17d1",
   "metadata": {},
   "source": [
    "### Exercício 2"
   ]
  },
  {
   "cell_type": "code",
   "execution_count": 5,
   "id": "99786da4",
   "metadata": {},
   "outputs": [],
   "source": [
    "num1 = float(input(\"Informe o primeiro número:\\n\"))\n",
    "num2 = float(input(\"Informe o segundo número:\\n\"))\n",
    "operation = input(\"Informe a operação a ser realizada: (+ - * /)\\n\")"
   ]
  },
  {
   "cell_type": "code",
   "execution_count": 6,
   "id": "731e6f3a",
   "metadata": {},
   "outputs": [
    {
     "name": "stdout",
     "output_type": "stream",
     "text": [
      "Resultado da operação é: 3.00\n"
     ]
    }
   ],
   "source": [
    "if operation == \"+\":\n",
    "    result = num1 + num2\n",
    "elif operation == \"-\":\n",
    "    result = num1 - num2\n",
    "elif operation == \"*\":\n",
    "    result = num1 * num2\n",
    "elif operation == \"/\":\n",
    "    if num2 !=0:\n",
    "        result = num1 / num2\n",
    "    else:\n",
    "        print(\"Erro: Divisão por Zero\")\n",
    "        result = 0\n",
    "else:\n",
    "    print(\"Operação inválida!\")\n",
    "    result = 0\n",
    "\n",
    "print(f\"Resultado da operação é: {result:.2f}\")\n"
   ]
  }
 ],
 "metadata": {
  "kernelspec": {
   "display_name": "Python 3",
   "language": "python",
   "name": "python3"
  },
  "language_info": {
   "codemirror_mode": {
    "name": "ipython",
    "version": 3
   },
   "file_extension": ".py",
   "mimetype": "text/x-python",
   "name": "python",
   "nbconvert_exporter": "python",
   "pygments_lexer": "ipython3",
   "version": "3.13.2"
  }
 },
 "nbformat": 4,
 "nbformat_minor": 5
}
