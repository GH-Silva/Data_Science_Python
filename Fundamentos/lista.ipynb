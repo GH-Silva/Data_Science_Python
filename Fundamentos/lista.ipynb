{
 "cells": [
  {
   "cell_type": "code",
   "execution_count": 3,
   "id": "0dc021ec",
   "metadata": {},
   "outputs": [],
   "source": [
    "filme1 = [\"Matrix\", 1999, 8.7, True]"
   ]
  },
  {
   "cell_type": "code",
   "execution_count": 4,
   "id": "d10b2651",
   "metadata": {},
   "outputs": [
    {
     "name": "stdout",
     "output_type": "stream",
     "text": [
      "['Matrix', 1999, 8.7, True]\n"
     ]
    }
   ],
   "source": [
    "print(filme1)"
   ]
  },
  {
   "cell_type": "code",
   "execution_count": 5,
   "id": "0bb133ea",
   "metadata": {},
   "outputs": [],
   "source": [
    "filmesList = [\"Inception 2\", \"The String\", \"Maio Kart\", \"Alvin e os Esquilos\", \"Teste 123\"]"
   ]
  },
  {
   "cell_type": "code",
   "execution_count": 6,
   "id": "4e2db6fa",
   "metadata": {},
   "outputs": [
    {
     "name": "stdout",
     "output_type": "stream",
     "text": [
      "['Inception 2', 'The String']\n"
     ]
    }
   ],
   "source": [
    "print(filmesList[:2])"
   ]
  }
 ],
 "metadata": {
  "kernelspec": {
   "display_name": "Python 3",
   "language": "python",
   "name": "python3"
  },
  "language_info": {
   "codemirror_mode": {
    "name": "ipython",
    "version": 3
   },
   "file_extension": ".py",
   "mimetype": "text/x-python",
   "name": "python",
   "nbconvert_exporter": "python",
   "pygments_lexer": "ipython3",
   "version": "3.13.2"
  }
 },
 "nbformat": 4,
 "nbformat_minor": 5
}
