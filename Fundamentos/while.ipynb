{
 "cells": [
  {
   "cell_type": "code",
   "execution_count": 24,
   "id": "064821c2",
   "metadata": {},
   "outputs": [],
   "source": [
    "moviesList = [\"Titanic\", \"The Godfather\", \"Inception\", \"Jurassic Park\"]"
   ]
  },
  {
   "cell_type": "code",
   "execution_count": 25,
   "id": "3060c47e",
   "metadata": {},
   "outputs": [
    {
     "name": "stdout",
     "output_type": "stream",
     "text": [
      "Titanic\n",
      "The Godfather\n",
      "Inception\n",
      "Jurassic Park\n"
     ]
    }
   ],
   "source": [
    "# Iterando valores de uma lista de filmes usando while\n",
    "index = 0\n",
    "while index < len(moviesList):\n",
    "    print(moviesList[index])\n",
    "    index += 1"
   ]
  },
  {
   "cell_type": "code",
   "execution_count": 26,
   "id": "d3a5bf6a",
   "metadata": {},
   "outputs": [
    {
     "name": "stdout",
     "output_type": "stream",
     "text": [
      "Titanic\n",
      "The Godfather\n"
     ]
    }
   ],
   "source": [
    "# Quando a condição for atendida, o Loop será encerrado\n",
    "index = 0\n",
    "while index < len(moviesList):\n",
    "    if moviesList[index] == \"Inception\":\n",
    "        break\n",
    "    print(moviesList[index])\n",
    "    index += 1"
   ]
  },
  {
   "cell_type": "code",
   "execution_count": 27,
   "id": "5b5acd54",
   "metadata": {},
   "outputs": [
    {
     "name": "stdout",
     "output_type": "stream",
     "text": [
      "Titanic\n",
      "The Godfather\n",
      "Jurassic Park\n",
      "Média de avaliação do filme 5 é: 2.00\n"
     ]
    }
   ],
   "source": [
    "# Quando a condição for atendida, o Loop vai para próxima iteração\n",
    "index = 0\n",
    "while index < len(moviesList):\n",
    "    if moviesList[index] == \"Inception\":\n",
    "        index += 1\n",
    "        continue\n",
    "    print(moviesList[index])\n",
    "    index += 1\n",
    "\n",
    "movieName = input(\"Informe o nome do filme:\\n\")\n",
    "movieRating = int(input(\"Informe quantas avaliações deseja fazer:\\n\"))\n",
    "\n",
    "total = 0\n",
    "count = 0\n",
    "\n",
    "while count < movieRating:\n",
    "    note = float(input(\"Informe a nota para o filme:\\n\"))\n",
    "    total += note\n",
    "    count += 1\n",
    "\n",
    "if movieRating > 0:\n",
    "    avarage = total / movieRating\n",
    "\n",
    "else:\n",
    "    avarage = 0\n",
    "\n",
    "print(f\"Média de avaliação do filme {movieName} é: {avarage:.2f}\")"
   ]
  }
 ],
 "metadata": {
  "kernelspec": {
   "display_name": "Python 3",
   "language": "python",
   "name": "python3"
  },
  "language_info": {
   "codemirror_mode": {
    "name": "ipython",
    "version": 3
   },
   "file_extension": ".py",
   "mimetype": "text/x-python",
   "name": "python",
   "nbconvert_exporter": "python",
   "pygments_lexer": "ipython3",
   "version": "3.13.2"
  }
 },
 "nbformat": 4,
 "nbformat_minor": 5
}
