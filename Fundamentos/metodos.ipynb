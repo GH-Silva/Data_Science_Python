{
 "cells": [
  {
   "cell_type": "code",
   "execution_count": 3,
   "id": "8ccf6434",
   "metadata": {},
   "outputs": [],
   "source": [
    "movieName = \"Top Gun\"\n",
    "movieDescription = \"\"\"\n",
    "\n",
    "        Top Gun Maverick é um filme de aviação e aventura muito consagrado na indústria!\n",
    "\n",
    "\"\"\""
   ]
  },
  {
   "cell_type": "code",
   "execution_count": null,
   "id": "24430bbb",
   "metadata": {},
   "outputs": [
    {
     "name": "stdout",
     "output_type": "stream",
     "text": [
      "TOP GUN\n",
      "top gun\n",
      "Top gun\n",
      "-Top Gun--\n",
      "5\n",
      "1\n",
      "Matrix Gun\n",
      "['Top Gun']\n"
     ]
    }
   ],
   "source": [
    "print(movieName.upper()) # Tudo maiúsculo\n",
    "print(movieName.lower()) # Tudo minúsculo\n",
    "print(movieName.capitalize()) # Primeira lestra maiúscula\n",
    "print(movieName.center(10, '-')) # Retorna string centralizada com caractere de preenchimento\n",
    "print(movieName.find(\"u\")) # Retorna a posição de um determinado caractere\n",
    "print(movieName.find(\"o\")) # Conta caractere\n",
    "print(movieName.replace(\"Top\", \"Matrix\")) # Altera elemento por outro\n",
    "print(movieName.split(',')) # Biblioteca do Python"
   ]
  }
 ],
 "metadata": {
  "kernelspec": {
   "display_name": "Python 3",
   "language": "python",
   "name": "python3"
  },
  "language_info": {
   "codemirror_mode": {
    "name": "ipython",
    "version": 3
   },
   "file_extension": ".py",
   "mimetype": "text/x-python",
   "name": "python",
   "nbconvert_exporter": "python",
   "pygments_lexer": "ipython3",
   "version": "3.13.2"
  }
 },
 "nbformat": 4,
 "nbformat_minor": 5
}
