{
 "cells": [
  {
   "cell_type": "code",
   "execution_count": 1,
   "id": "0b0f37c7",
   "metadata": {},
   "outputs": [],
   "source": [
    "### Utilizando o Input\n",
    "name = input(\"Informe o nome do filme:\\n\")\n",
    "yearLaunch = int(input(\"Informe o ano de lançamento do filme: \\n\"))\n",
    "noteMovie = float(input(\"Informe a nota do filme \\n\"))"
   ]
  },
  {
   "cell_type": "code",
   "execution_count": 2,
   "id": "a37c7f9e",
   "metadata": {},
   "outputs": [
    {
     "name": "stdout",
     "output_type": "stream",
     "text": [
      "Dados do Filme\n",
      "===================\n",
      "Nome do Filme: Alvin\n",
      "Ano do Lançamento: 2022\n",
      "Nota do Filme: 1.0\n"
     ]
    }
   ],
   "source": [
    "### Alternativa 1\n",
    "print(\"Dados do Filme\")\n",
    "print(\"===================\")\n",
    "print(\"Nome do Filme:\", name)\n",
    "print(\"Ano do Lançamento:\", yearLaunch)\n",
    "print(\"Nota do Filme:\", noteMovie)"
   ]
  }
 ],
 "metadata": {
  "kernelspec": {
   "display_name": "Python 3",
   "language": "python",
   "name": "python3"
  },
  "language_info": {
   "codemirror_mode": {
    "name": "ipython",
    "version": 3
   },
   "file_extension": ".py",
   "mimetype": "text/x-python",
   "name": "python",
   "nbconvert_exporter": "python",
   "pygments_lexer": "ipython3",
   "version": "3.13.2"
  }
 },
 "nbformat": 4,
 "nbformat_minor": 5
}
