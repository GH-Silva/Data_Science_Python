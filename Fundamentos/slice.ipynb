{
 "cells": [
  {
   "cell_type": "code",
   "execution_count": 22,
   "id": "4cf2e546",
   "metadata": {},
   "outputs": [],
   "source": [
    "movieName = \"Top Gun\"\n",
    "### String (Inicio: fim) - índice começa na posição 0 / índice final - 1"
   ]
  },
  {
   "cell_type": "code",
   "execution_count": 23,
   "id": "0052251f",
   "metadata": {},
   "outputs": [
    {
     "name": "stdout",
     "output_type": "stream",
     "text": [
      "Top\n"
     ]
    }
   ],
   "source": [
    "# 1 - Buscar toda a String a partir da primeira posição\n",
    "print(movieName[0:3])"
   ]
  },
  {
   "cell_type": "code",
   "execution_count": 24,
   "id": "9acfbe09",
   "metadata": {},
   "outputs": [
    {
     "name": "stdout",
     "output_type": "stream",
     "text": [
      "Top Gu\n"
     ]
    }
   ],
   "source": [
    "# 2 - Buscar toda String até a última posição\n",
    "print(movieName[:6])"
   ]
  },
  {
   "cell_type": "code",
   "execution_count": 25,
   "id": "3e281fe6",
   "metadata": {},
   "outputs": [
    {
     "name": "stdout",
     "output_type": "stream",
     "text": [
      "p Gun\n"
     ]
    }
   ],
   "source": [
    "# Buscar toda String da terceira até a última posição\n",
    "print(movieName[2:])"
   ]
  },
  {
   "cell_type": "code",
   "execution_count": 26,
   "id": "dc38cc1e",
   "metadata": {},
   "outputs": [
    {
     "name": "stdout",
     "output_type": "stream",
     "text": [
      "TpGn\n"
     ]
    }
   ],
   "source": [
    "# Buscar toda String de 2 em 2 caracteres\n",
    "print(movieName[::2])"
   ]
  },
  {
   "cell_type": "code",
   "execution_count": 27,
   "id": "3594e73e",
   "metadata": {},
   "outputs": [
    {
     "name": "stdout",
     "output_type": "stream",
     "text": [
      "o u\n"
     ]
    }
   ],
   "source": [
    "# Buscar toda String nos índices ímpares\n",
    "print(movieName[1::2])"
   ]
  },
  {
   "cell_type": "code",
   "execution_count": 28,
   "id": "4ef09e74",
   "metadata": {},
   "outputs": [
    {
     "name": "stdout",
     "output_type": "stream",
     "text": [
      "nuG poT\n"
     ]
    }
   ],
   "source": [
    "# Inverter uma String de trás pra frente\n",
    "print(movieName[::-1])"
   ]
  }
 ],
 "metadata": {
  "kernelspec": {
   "display_name": "Python 3",
   "language": "python",
   "name": "python3"
  },
  "language_info": {
   "codemirror_mode": {
    "name": "ipython",
    "version": 3
   },
   "file_extension": ".py",
   "mimetype": "text/x-python",
   "name": "python",
   "nbconvert_exporter": "python",
   "pygments_lexer": "ipython3",
   "version": "3.13.2"
  }
 },
 "nbformat": 4,
 "nbformat_minor": 5
}
