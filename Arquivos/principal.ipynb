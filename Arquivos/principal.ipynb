{
 "cells": [
  {
   "cell_type": "code",
   "execution_count": 3,
   "id": "6fab9f4d",
   "metadata": {},
   "outputs": [
    {
     "ename": "ModuleNotFoundError",
     "evalue": "No module named 'agenda'",
     "output_type": "error",
     "traceback": [
      "\u001b[31m---------------------------------------------------------------------------\u001b[39m",
      "\u001b[31mModuleNotFoundError\u001b[39m                       Traceback (most recent call last)",
      "\u001b[36mCell\u001b[39m\u001b[36m \u001b[39m\u001b[32mIn[3]\u001b[39m\u001b[32m, line 2\u001b[39m\n\u001b[32m      1\u001b[39m \u001b[38;5;28;01mimport\u001b[39;00m\u001b[38;5;250m \u001b[39m\u001b[34;01mnbimporter\u001b[39;00m\n\u001b[32m----> \u001b[39m\u001b[32m2\u001b[39m \u001b[38;5;28;01mfrom\u001b[39;00m\u001b[38;5;250m \u001b[39m\u001b[34;01magenda\u001b[39;00m\u001b[38;5;250m \u001b[39m\u001b[38;5;28;01mimport\u001b[39;00m add_contact, view_contacts, delete_contacts\n",
      "\u001b[31mModuleNotFoundError\u001b[39m: No module named 'agenda'"
     ]
    }
   ],
   "source": [
    "import nbimporter\n",
    "from agenda import add_contact, view_contacts, delete_contacts"
   ]
  },
  {
   "cell_type": "code",
   "execution_count": null,
   "id": "f30b00e9",
   "metadata": {},
   "outputs": [],
   "source": [
    "def main():\n",
    "    while True:\n",
    "        print(\"\\nAgenda de Contatos\")\n",
    "        print(\"1. Adicionando Contato\")\n",
    "        print(\"2. Listar Contato\")\n",
    "        print(\"3. Remover Contatos\")\n",
    "        print(\"4. Sair\")\n",
    "\n",
    "        choice = input(\"Escolha a opção (1 - 4)\\n\")\n",
    "\n",
    "        if choice == \"1\":\n",
    "            add_contact()\n",
    "        \n",
    "        elif choice == \"2\":\n",
    "            view_contacts()\n",
    "        \n",
    "        elif choice == \"3\":\n",
    "            delete_contacts\n",
    "        \n",
    "        elif choice == \"4\":\n",
    "            break\n",
    "\n",
    "        else:\n",
    "            print(\"Informe uma opção válida!\")\n",
    "\n",
    "if __name__ == \"__name__\":\n",
    "    main()\n"
   ]
  }
 ],
 "metadata": {
  "kernelspec": {
   "display_name": "Python 3",
   "language": "python",
   "name": "python3"
  },
  "language_info": {
   "codemirror_mode": {
    "name": "ipython",
    "version": 3
   },
   "file_extension": ".py",
   "mimetype": "text/x-python",
   "name": "python",
   "nbconvert_exporter": "python",
   "pygments_lexer": "ipython3",
   "version": "3.13.2"
  }
 },
 "nbformat": 4,
 "nbformat_minor": 5
}
