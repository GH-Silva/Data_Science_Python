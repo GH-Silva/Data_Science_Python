{
 "cells": [
  {
   "cell_type": "code",
   "execution_count": 24,
   "id": "10d51510",
   "metadata": {},
   "outputs": [],
   "source": [
    "import json"
   ]
  },
  {
   "cell_type": "code",
   "execution_count": 25,
   "id": "a7ac30b9",
   "metadata": {},
   "outputs": [],
   "source": [
    "dados = {\n",
    "    \"clientes\": [{\"id\": 1, \"nome\": \"Ana\", \"idade\": 25, \"cidade\": \"São Paulo\"}, \n",
    "                 {\"id\": 2, \"nome\": \"Carlos\", \"idade\": 30, \"cidade\": \"Rio de Janeiro\"},\n",
    "                 {\"id\": 3, \"nome\": \"Fernanda\", \"idade\": 22, \"cidade\": \"Curitiba\"},\n",
    "                 {\"id\": 4, \"nome\": \"João\", \"idade\": 35, \"cidade\": \"Belo Horizonte\"}],\n",
    "}"
   ]
  },
  {
   "cell_type": "code",
   "execution_count": null,
   "id": "0d6741f3",
   "metadata": {},
   "outputs": [],
   "source": [
    "caminho_arquivo = (fr\"C:\\Users\\Gabriel\\Documents\\Histórico Gabriel\\Cursos\\Udemy\\Domine a Análise de Dados\\clientes.json\")"
   ]
  },
  {
   "cell_type": "code",
   "execution_count": 27,
   "id": "1eb63e91",
   "metadata": {},
   "outputs": [],
   "source": [
    "### Escrevendo dados em arquivo JSON\n",
    "with open(caminho_arquivo, \"w\", encoding=\"utf-8\") as f:\n",
    "    json.dump(dados, f, indent=4)"
   ]
  },
  {
   "cell_type": "code",
   "execution_count": 28,
   "id": "ce9afb52",
   "metadata": {},
   "outputs": [
    {
     "name": "stdout",
     "output_type": "stream",
     "text": [
      "{'clientes': [{'id': 1, 'nome': 'Ana', 'idade': 25, 'cidade': 'São Paulo'}, {'id': 2, 'nome': 'Carlos', 'idade': 30, 'cidade': 'Rio de Janeiro'}, {'id': 3, 'nome': 'Fernanda', 'idade': 22, 'cidade': 'Curitiba'}, {'id': 4, 'nome': 'João', 'idade': 35, 'cidade': 'Belo Horizonte'}]}\n"
     ]
    }
   ],
   "source": [
    "### Lendo os dados do arquivo JASON\n",
    "with open(caminho_arquivo, \"r\", encoding=\"utf-8\") as f:\n",
    "    dados_lidos = json.load(f)\n",
    "    print(dados_lidos)"
   ]
  },
  {
   "cell_type": "code",
   "execution_count": 29,
   "id": "9f548d55",
   "metadata": {},
   "outputs": [],
   "source": [
    "### Manipulação dos dados\n",
    "for cliente in dados_lidos[\"clientes\"]:\n",
    "    if cliente[\"nome\"] == \"Carlos\":\n",
    "        cliente[\"idade\"] = 20"
   ]
  },
  {
   "cell_type": "code",
   "execution_count": 30,
   "id": "3328ffa6",
   "metadata": {},
   "outputs": [],
   "source": [
    "### Inserindo um novo usuário (Cliente)\n",
    "novo_cliente = {\"id\": 5, \"nome\": \"Samilly\", \"idade\": 28, \"cidade\": \"Florianópolis\"}\n",
    "dados_lidos[\"clientes\"].append(novo_cliente)"
   ]
  },
  {
   "cell_type": "code",
   "execution_count": 31,
   "id": "233ce29c",
   "metadata": {},
   "outputs": [],
   "source": [
    "### Salvar o novo arquivo em Json\n",
    "with open(caminho_arquivo, \"w\", encoding=\"utf-8\") as f:\n",
    "    json.dump(dados_lidos, f, indent=4)"
   ]
  }
 ],
 "metadata": {
  "kernelspec": {
   "display_name": "Python 3",
   "language": "python",
   "name": "python3"
  },
  "language_info": {
   "codemirror_mode": {
    "name": "ipython",
    "version": 3
   },
   "file_extension": ".py",
   "mimetype": "text/x-python",
   "name": "python",
   "nbconvert_exporter": "python",
   "pygments_lexer": "ipython3",
   "version": "3.13.2"
  }
 },
 "nbformat": 4,
 "nbformat_minor": 5
}
