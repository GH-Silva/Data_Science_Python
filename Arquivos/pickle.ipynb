{
 "cells": [
  {
   "cell_type": "code",
   "execution_count": 24,
   "id": "4d6306f1",
   "metadata": {},
   "outputs": [],
   "source": [
    "import pickle"
   ]
  },
  {
   "cell_type": "code",
   "execution_count": 25,
   "id": "d9c5b98c",
   "metadata": {},
   "outputs": [],
   "source": [
    "class Cliente:\n",
    "    def __init__(self, nome, idade, cidade):\n",
    "        self.nome = nome\n",
    "        self.idade = idade\n",
    "        self.cidade = cidade\n",
    "    \n",
    "    def __str__(self):\n",
    "        return f\"{self.nome} {self.idade} anos - {self.cidade}\"\n",
    "\n",
    "\n",
    "clientes = [\n",
    "    Cliente(\"Ana\", 25, \"São Paulo\"),\n",
    "    Cliente(\"Carlos\", 30, \"Rio de Janeiro\"),\n",
    "    Cliente(\"Fernanda\", 22, \"Curitiba\")\n",
    "]"
   ]
  },
  {
   "cell_type": "code",
   "execution_count": 26,
   "id": "972c2227",
   "metadata": {},
   "outputs": [],
   "source": [
    "### Salvando lista de clientes em arquivo Pickle\n",
    "with open(fr\"clientes.pkl\", \"wb\") as f:\n",
    "    pickle.dump(clientes, f)"
   ]
  },
  {
   "cell_type": "code",
   "execution_count": 27,
   "id": "58d51d93",
   "metadata": {},
   "outputs": [
    {
     "name": "stdout",
     "output_type": "stream",
     "text": [
      "Ana 25 anos - São Paulo\n",
      "Carlos 30 anos - Rio de Janeiro\n",
      "Fernanda 22 anos - Curitiba\n"
     ]
    }
   ],
   "source": [
    "### Carregando os dados Pickle\n",
    "with open(fr\"C:\\Users\\Gabriel\\Documents\\Histórico Gabriel\\Cursos\\Udemy\\Domine a Análise de Dados\\Arquivos\\clientes.pkl\", \"rb\") as f:\n",
    "    clientes_carregados = pickle.load(f)\n",
    "\n",
    "for clientes in clientes_carregados:\n",
    "    print(clientes)"
   ]
  }
 ],
 "metadata": {
  "kernelspec": {
   "display_name": "Python 3",
   "language": "python",
   "name": "python3"
  },
  "language_info": {
   "codemirror_mode": {
    "name": "ipython",
    "version": 3
   },
   "file_extension": ".py",
   "mimetype": "text/x-python",
   "name": "python",
   "nbconvert_exporter": "python",
   "pygments_lexer": "ipython3",
   "version": "3.13.2"
  }
 },
 "nbformat": 4,
 "nbformat_minor": 5
}
