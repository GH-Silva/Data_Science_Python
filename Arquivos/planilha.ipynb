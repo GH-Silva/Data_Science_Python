{
 "cells": [
  {
   "cell_type": "code",
   "execution_count": 33,
   "id": "254d1c40",
   "metadata": {},
   "outputs": [],
   "source": [
    "import pandas as pd"
   ]
  },
  {
   "cell_type": "code",
   "execution_count": 34,
   "id": "b750957b",
   "metadata": {},
   "outputs": [],
   "source": [
    "df = pd.read_excel(fr\"C:\\Users\\Gabriel\\Documents\\Histórico Gabriel\\Cursos\\Udemy\\Domine a Análise de Dados\\teste.xlsx\", sheet_name=\"Dado3\")"
   ]
  },
  {
   "cell_type": "code",
   "execution_count": 35,
   "id": "accd19d0",
   "metadata": {},
   "outputs": [
    {
     "data": {
      "application/vnd.microsoft.datawrangler.viewer.v0+json": {
       "columns": [
        {
         "name": "index",
         "rawType": "int64",
         "type": "integer"
        },
        {
         "name": "ID",
         "rawType": "int64",
         "type": "integer"
        },
        {
         "name": "Nome",
         "rawType": "object",
         "type": "string"
        },
        {
         "name": "Idade",
         "rawType": "int64",
         "type": "integer"
        },
        {
         "name": "Cidade",
         "rawType": "object",
         "type": "string"
        }
       ],
       "ref": "3e82803c-91b0-46bc-aa18-37280c35beeb",
       "rows": [
        [
         "0",
         "11",
         "Juliana",
         "26",
         "Natal"
        ],
        [
         "1",
         "12",
         "Sérgio",
         "33",
         "Cuiaba"
        ],
        [
         "2",
         "13",
         "Gabriela",
         "28",
         "Vitória"
        ],
        [
         "3",
         "14",
         "Eduardo",
         "31",
         "Maceió"
        ],
        [
         "4",
         "15",
         "Carla",
         "24",
         "João Pessoa"
        ]
       ],
       "shape": {
        "columns": 4,
        "rows": 5
       }
      },
      "text/html": [
       "<div>\n",
       "<style scoped>\n",
       "    .dataframe tbody tr th:only-of-type {\n",
       "        vertical-align: middle;\n",
       "    }\n",
       "\n",
       "    .dataframe tbody tr th {\n",
       "        vertical-align: top;\n",
       "    }\n",
       "\n",
       "    .dataframe thead th {\n",
       "        text-align: right;\n",
       "    }\n",
       "</style>\n",
       "<table border=\"1\" class=\"dataframe\">\n",
       "  <thead>\n",
       "    <tr style=\"text-align: right;\">\n",
       "      <th></th>\n",
       "      <th>ID</th>\n",
       "      <th>Nome</th>\n",
       "      <th>Idade</th>\n",
       "      <th>Cidade</th>\n",
       "    </tr>\n",
       "  </thead>\n",
       "  <tbody>\n",
       "    <tr>\n",
       "      <th>0</th>\n",
       "      <td>11</td>\n",
       "      <td>Juliana</td>\n",
       "      <td>26</td>\n",
       "      <td>Natal</td>\n",
       "    </tr>\n",
       "    <tr>\n",
       "      <th>1</th>\n",
       "      <td>12</td>\n",
       "      <td>Sérgio</td>\n",
       "      <td>33</td>\n",
       "      <td>Cuiaba</td>\n",
       "    </tr>\n",
       "    <tr>\n",
       "      <th>2</th>\n",
       "      <td>13</td>\n",
       "      <td>Gabriela</td>\n",
       "      <td>28</td>\n",
       "      <td>Vitória</td>\n",
       "    </tr>\n",
       "    <tr>\n",
       "      <th>3</th>\n",
       "      <td>14</td>\n",
       "      <td>Eduardo</td>\n",
       "      <td>31</td>\n",
       "      <td>Maceió</td>\n",
       "    </tr>\n",
       "    <tr>\n",
       "      <th>4</th>\n",
       "      <td>15</td>\n",
       "      <td>Carla</td>\n",
       "      <td>24</td>\n",
       "      <td>João Pessoa</td>\n",
       "    </tr>\n",
       "  </tbody>\n",
       "</table>\n",
       "</div>"
      ],
      "text/plain": [
       "   ID      Nome  Idade       Cidade\n",
       "0  11   Juliana     26        Natal\n",
       "1  12    Sérgio     33       Cuiaba\n",
       "2  13  Gabriela     28      Vitória\n",
       "3  14   Eduardo     31       Maceió\n",
       "4  15     Carla     24  João Pessoa"
      ]
     },
     "execution_count": 35,
     "metadata": {},
     "output_type": "execute_result"
    }
   ],
   "source": [
    "df.head()"
   ]
  },
  {
   "cell_type": "code",
   "execution_count": 36,
   "id": "7a763e5f",
   "metadata": {},
   "outputs": [],
   "source": [
    "### Adicionando colunas\n",
    "df = pd.read_excel(fr\"C:\\Users\\Gabriel\\Documents\\Histórico Gabriel\\Cursos\\Udemy\\Domine a Análise de Dados\\teste.xlsx\", index_col=0)"
   ]
  },
  {
   "cell_type": "code",
   "execution_count": 37,
   "id": "3ad3e2a5",
   "metadata": {},
   "outputs": [
    {
     "data": {
      "application/vnd.microsoft.datawrangler.viewer.v0+json": {
       "columns": [
        {
         "name": "ID",
         "rawType": "int64",
         "type": "integer"
        },
        {
         "name": "Nome",
         "rawType": "object",
         "type": "string"
        },
        {
         "name": "Idade",
         "rawType": "int64",
         "type": "integer"
        },
        {
         "name": "Cidade",
         "rawType": "object",
         "type": "string"
        }
       ],
       "ref": "2f848e1e-6720-4941-b72d-494994778e01",
       "rows": [
        [
         "1",
         "Ana",
         "23",
         "São Paulo"
        ],
        [
         "2",
         "Carlos",
         "30",
         "Rio de Janeiro"
        ],
        [
         "3",
         "Lucas",
         "25",
         "Curitiba"
        ],
        [
         "4",
         "Fernanda",
         "28",
         "Porto Alegre"
        ],
        [
         "5",
         "Mariana",
         "22",
         "Salvador"
        ]
       ],
       "shape": {
        "columns": 3,
        "rows": 5
       }
      },
      "text/html": [
       "<div>\n",
       "<style scoped>\n",
       "    .dataframe tbody tr th:only-of-type {\n",
       "        vertical-align: middle;\n",
       "    }\n",
       "\n",
       "    .dataframe tbody tr th {\n",
       "        vertical-align: top;\n",
       "    }\n",
       "\n",
       "    .dataframe thead th {\n",
       "        text-align: right;\n",
       "    }\n",
       "</style>\n",
       "<table border=\"1\" class=\"dataframe\">\n",
       "  <thead>\n",
       "    <tr style=\"text-align: right;\">\n",
       "      <th></th>\n",
       "      <th>Nome</th>\n",
       "      <th>Idade</th>\n",
       "      <th>Cidade</th>\n",
       "    </tr>\n",
       "    <tr>\n",
       "      <th>ID</th>\n",
       "      <th></th>\n",
       "      <th></th>\n",
       "      <th></th>\n",
       "    </tr>\n",
       "  </thead>\n",
       "  <tbody>\n",
       "    <tr>\n",
       "      <th>1</th>\n",
       "      <td>Ana</td>\n",
       "      <td>23</td>\n",
       "      <td>São Paulo</td>\n",
       "    </tr>\n",
       "    <tr>\n",
       "      <th>2</th>\n",
       "      <td>Carlos</td>\n",
       "      <td>30</td>\n",
       "      <td>Rio de Janeiro</td>\n",
       "    </tr>\n",
       "    <tr>\n",
       "      <th>3</th>\n",
       "      <td>Lucas</td>\n",
       "      <td>25</td>\n",
       "      <td>Curitiba</td>\n",
       "    </tr>\n",
       "    <tr>\n",
       "      <th>4</th>\n",
       "      <td>Fernanda</td>\n",
       "      <td>28</td>\n",
       "      <td>Porto Alegre</td>\n",
       "    </tr>\n",
       "    <tr>\n",
       "      <th>5</th>\n",
       "      <td>Mariana</td>\n",
       "      <td>22</td>\n",
       "      <td>Salvador</td>\n",
       "    </tr>\n",
       "  </tbody>\n",
       "</table>\n",
       "</div>"
      ],
      "text/plain": [
       "        Nome  Idade          Cidade\n",
       "ID                                 \n",
       "1        Ana     23       São Paulo\n",
       "2     Carlos     30  Rio de Janeiro\n",
       "3      Lucas     25        Curitiba\n",
       "4   Fernanda     28    Porto Alegre\n",
       "5    Mariana     22        Salvador"
      ]
     },
     "execution_count": 37,
     "metadata": {},
     "output_type": "execute_result"
    }
   ],
   "source": [
    "df.head()"
   ]
  },
  {
   "cell_type": "code",
   "execution_count": 38,
   "id": "9edfab7b",
   "metadata": {},
   "outputs": [
    {
     "data": {
      "application/vnd.microsoft.datawrangler.viewer.v0+json": {
       "columns": [
        {
         "name": "Nome",
         "rawType": "object",
         "type": "string"
        },
        {
         "name": "Idade",
         "rawType": "int64",
         "type": "integer"
        }
       ],
       "ref": "36f42e38-eab5-4448-b88f-d3b41c69a02d",
       "rows": [
        [
         "Ana",
         "23"
        ],
        [
         "Carlos",
         "30"
        ],
        [
         "Lucas",
         "25"
        ],
        [
         "Fernanda",
         "28"
        ],
        [
         "Mariana",
         "22"
        ]
       ],
       "shape": {
        "columns": 1,
        "rows": 5
       }
      },
      "text/html": [
       "<div>\n",
       "<style scoped>\n",
       "    .dataframe tbody tr th:only-of-type {\n",
       "        vertical-align: middle;\n",
       "    }\n",
       "\n",
       "    .dataframe tbody tr th {\n",
       "        vertical-align: top;\n",
       "    }\n",
       "\n",
       "    .dataframe thead th {\n",
       "        text-align: right;\n",
       "    }\n",
       "</style>\n",
       "<table border=\"1\" class=\"dataframe\">\n",
       "  <thead>\n",
       "    <tr style=\"text-align: right;\">\n",
       "      <th></th>\n",
       "      <th>Idade</th>\n",
       "    </tr>\n",
       "    <tr>\n",
       "      <th>Nome</th>\n",
       "      <th></th>\n",
       "    </tr>\n",
       "  </thead>\n",
       "  <tbody>\n",
       "    <tr>\n",
       "      <th>Ana</th>\n",
       "      <td>23</td>\n",
       "    </tr>\n",
       "    <tr>\n",
       "      <th>Carlos</th>\n",
       "      <td>30</td>\n",
       "    </tr>\n",
       "    <tr>\n",
       "      <th>Lucas</th>\n",
       "      <td>25</td>\n",
       "    </tr>\n",
       "    <tr>\n",
       "      <th>Fernanda</th>\n",
       "      <td>28</td>\n",
       "    </tr>\n",
       "    <tr>\n",
       "      <th>Mariana</th>\n",
       "      <td>22</td>\n",
       "    </tr>\n",
       "  </tbody>\n",
       "</table>\n",
       "</div>"
      ],
      "text/plain": [
       "          Idade\n",
       "Nome           \n",
       "Ana          23\n",
       "Carlos       30\n",
       "Lucas        25\n",
       "Fernanda     28\n",
       "Mariana      22"
      ]
     },
     "execution_count": 38,
     "metadata": {},
     "output_type": "execute_result"
    }
   ],
   "source": [
    "### Importando colunas específicas\n",
    "df = pd.read_excel(fr\"C:\\Users\\Gabriel\\Documents\\Histórico Gabriel\\Cursos\\Udemy\\Domine a Análise de Dados\\teste.xlsx\", usecols=[1,2], index_col=0)\n",
    "df.head()"
   ]
  },
  {
   "cell_type": "code",
   "execution_count": 39,
   "id": "d50c6d95",
   "metadata": {},
   "outputs": [],
   "source": [
    "### Gerando uma novo arquivo para os dados - Exportando dados na planilha\n",
    "df1 = pd.read_excel(fr\"C:\\Users\\Gabriel\\Documents\\Histórico Gabriel\\Cursos\\Udemy\\Domine a Análise de Dados\\teste.xlsx\", sheet_name=\"Dado1\")\n",
    "df2 = pd.read_excel(fr\"C:\\Users\\Gabriel\\Documents\\Histórico Gabriel\\Cursos\\Udemy\\Domine a Análise de Dados\\teste.xlsx\", sheet_name=\"Dado2\")"
   ]
  },
  {
   "cell_type": "code",
   "execution_count": 40,
   "id": "37f610ba",
   "metadata": {},
   "outputs": [],
   "source": [
    "with pd.ExcelWriter(fr\"C:\\Users\\Gabriel\\Documents\\Histórico Gabriel\\Cursos\\Udemy\\Domine a Análise de Dados\\teste.xlsx\") as nova_planilha:\n",
    "    df1.to_excel(nova_planilha, sheet_name=\"Aba1\", index=False)\n",
    "    df2.to_excel(nova_planilha, sheet_name=\"Aba2\", index=False)"
   ]
  }
 ],
 "metadata": {
  "kernelspec": {
   "display_name": "Python 3",
   "language": "python",
   "name": "python3"
  },
  "language_info": {
   "codemirror_mode": {
    "name": "ipython",
    "version": 3
   },
   "file_extension": ".py",
   "mimetype": "text/x-python",
   "name": "python",
   "nbconvert_exporter": "python",
   "pygments_lexer": "ipython3",
   "version": "3.13.2"
  }
 },
 "nbformat": 4,
 "nbformat_minor": 5
}
