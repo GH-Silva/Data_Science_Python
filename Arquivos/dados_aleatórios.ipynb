{
 "cells": [
  {
   "cell_type": "code",
   "execution_count": 45,
   "id": "dd2396ca",
   "metadata": {},
   "outputs": [],
   "source": [
    "import pandas as pd\n",
    "import numpy as np"
   ]
  },
  {
   "cell_type": "code",
   "execution_count": 46,
   "id": "0af27278",
   "metadata": {},
   "outputs": [],
   "source": [
    "dados_one = {\n",
    "    \"ID\": [1, 2, 3, 4, 5],\n",
    "    \"Nome\": [\"Ana\", \"Carlos\", \"Lucas\", \"Fernanda\", \"Mariana\"],\n",
    "    \"Idade\": [23, 30, 25, 28, 22],\n",
    "    \"Cidade\": [\"São Paulo\", \"Rio de Janeiro\", \"Curitiba\", \"Porto Alegre\", \"Salvador\"]\n",
    "}"
   ]
  },
  {
   "cell_type": "code",
   "execution_count": 47,
   "id": "ff5e4a2f",
   "metadata": {},
   "outputs": [],
   "source": [
    "dados_two = {\n",
    "    \"ID\": [6, 7, 8, 9, 10],\n",
    "    \"Nome\": [\"João\", \"Paulo\", \"Pedro\", \"Amanda\", \"Rafael\"],\n",
    "    \"Idade\": [27, 35, 32, 22, 29],\n",
    "    \"Cidade\": [\"Fortaleza\", \"Belo Horizonte\", \"Recife\", \"Brasilia\", \"Manaus\"]\n",
    "}"
   ]
  },
  {
   "cell_type": "code",
   "execution_count": 48,
   "id": "b4c9d05a",
   "metadata": {},
   "outputs": [],
   "source": [
    "dados_three = {\n",
    "    \"ID\": [11, 12, 13, 14, 15],\n",
    "    \"Nome\": [\"Juliana\", \"Sérgio\", \"Gabriela\", \"Eduardo\", \"Carla\"],\n",
    "    \"Idade\": [26, 33, 28, 31, 24],\n",
    "    \"Cidade\": [\"Natal\", \"Cuiaba\", \"Vitória\", \"Maceió\", \"João Pessoa\"]\n",
    "}"
   ]
  },
  {
   "cell_type": "code",
   "execution_count": 49,
   "id": "d3084fca",
   "metadata": {},
   "outputs": [],
   "source": [
    "dados_four = {\n",
    "    \"ID\": [16, 17, 18, 19, 20],\n",
    "    \"Nome\": [\"Ricardo\", \"Tânia\", \"Elena\", \"Marcos\", \"Beatriz\"],\n",
    "    \"Idade\": [29, 26, 34, 27, 25],\n",
    "    \"Cidade\": [\"Florianópolis\", \"Goiânia\", \"Aracaju\", \"Campo Grande\", \"Belém\"]\n",
    "}"
   ]
  },
  {
   "cell_type": "code",
   "execution_count": 50,
   "id": "21fbfa92",
   "metadata": {},
   "outputs": [],
   "source": [
    "df_aba1 = pd.DataFrame(dados_one)\n",
    "df_aba2 = pd.DataFrame(dados_two)\n",
    "df_aba3 = pd.DataFrame(dados_three)\n",
    "df_aba4 = pd.DataFrame(dados_four)"
   ]
  },
  {
   "cell_type": "code",
   "execution_count": 51,
   "id": "d986a09a",
   "metadata": {},
   "outputs": [
    {
     "data": {
      "application/vnd.microsoft.datawrangler.viewer.v0+json": {
       "columns": [
        {
         "name": "index",
         "rawType": "int64",
         "type": "integer"
        },
        {
         "name": "ID",
         "rawType": "int64",
         "type": "integer"
        },
        {
         "name": "Nome",
         "rawType": "object",
         "type": "string"
        },
        {
         "name": "Idade",
         "rawType": "int64",
         "type": "integer"
        },
        {
         "name": "Cidade",
         "rawType": "object",
         "type": "string"
        }
       ],
       "ref": "8c05c779-cb90-424e-afd3-221fe993cf30",
       "rows": [
        [
         "0",
         "1",
         "Ana",
         "23",
         "São Paulo"
        ],
        [
         "1",
         "2",
         "Carlos",
         "30",
         "Rio de Janeiro"
        ],
        [
         "2",
         "3",
         "Lucas",
         "25",
         "Curitiba"
        ],
        [
         "3",
         "4",
         "Fernanda",
         "28",
         "Porto Alegre"
        ],
        [
         "4",
         "5",
         "Mariana",
         "22",
         "Salvador"
        ]
       ],
       "shape": {
        "columns": 4,
        "rows": 5
       }
      },
      "text/html": [
       "<div>\n",
       "<style scoped>\n",
       "    .dataframe tbody tr th:only-of-type {\n",
       "        vertical-align: middle;\n",
       "    }\n",
       "\n",
       "    .dataframe tbody tr th {\n",
       "        vertical-align: top;\n",
       "    }\n",
       "\n",
       "    .dataframe thead th {\n",
       "        text-align: right;\n",
       "    }\n",
       "</style>\n",
       "<table border=\"1\" class=\"dataframe\">\n",
       "  <thead>\n",
       "    <tr style=\"text-align: right;\">\n",
       "      <th></th>\n",
       "      <th>ID</th>\n",
       "      <th>Nome</th>\n",
       "      <th>Idade</th>\n",
       "      <th>Cidade</th>\n",
       "    </tr>\n",
       "  </thead>\n",
       "  <tbody>\n",
       "    <tr>\n",
       "      <th>0</th>\n",
       "      <td>1</td>\n",
       "      <td>Ana</td>\n",
       "      <td>23</td>\n",
       "      <td>São Paulo</td>\n",
       "    </tr>\n",
       "    <tr>\n",
       "      <th>1</th>\n",
       "      <td>2</td>\n",
       "      <td>Carlos</td>\n",
       "      <td>30</td>\n",
       "      <td>Rio de Janeiro</td>\n",
       "    </tr>\n",
       "    <tr>\n",
       "      <th>2</th>\n",
       "      <td>3</td>\n",
       "      <td>Lucas</td>\n",
       "      <td>25</td>\n",
       "      <td>Curitiba</td>\n",
       "    </tr>\n",
       "    <tr>\n",
       "      <th>3</th>\n",
       "      <td>4</td>\n",
       "      <td>Fernanda</td>\n",
       "      <td>28</td>\n",
       "      <td>Porto Alegre</td>\n",
       "    </tr>\n",
       "    <tr>\n",
       "      <th>4</th>\n",
       "      <td>5</td>\n",
       "      <td>Mariana</td>\n",
       "      <td>22</td>\n",
       "      <td>Salvador</td>\n",
       "    </tr>\n",
       "  </tbody>\n",
       "</table>\n",
       "</div>"
      ],
      "text/plain": [
       "   ID      Nome  Idade          Cidade\n",
       "0   1       Ana     23       São Paulo\n",
       "1   2    Carlos     30  Rio de Janeiro\n",
       "2   3     Lucas     25        Curitiba\n",
       "3   4  Fernanda     28    Porto Alegre\n",
       "4   5   Mariana     22        Salvador"
      ]
     },
     "execution_count": 51,
     "metadata": {},
     "output_type": "execute_result"
    }
   ],
   "source": [
    "df_aba1.head()"
   ]
  },
  {
   "cell_type": "code",
   "execution_count": 52,
   "id": "217922e5",
   "metadata": {},
   "outputs": [],
   "source": [
    "caminho_arquivo = fr\"C:\\Users\\Gabriel\\Documents\\Histórico Gabriel\\Cursos\\Udemy\\Domine a Análise de Dados\\teste.xlsx\""
   ]
  },
  {
   "cell_type": "code",
   "execution_count": 53,
   "id": "27b75917",
   "metadata": {},
   "outputs": [],
   "source": [
    "with pd.ExcelWriter(caminho_arquivo, engine=\"openpyxl\") as writer:\n",
    "    df_aba1.to_excel(writer, sheet_name=\"Dado1\", index=False)\n",
    "    df_aba2.to_excel(writer, sheet_name=\"Dado2\", index=False)\n",
    "    df_aba3.to_excel(writer, sheet_name=\"Dado3\", index=False)\n",
    "    df_aba4.to_excel(writer, sheet_name=\"Dado4\", index=False)"
   ]
  },
  {
   "cell_type": "code",
   "execution_count": 54,
   "id": "aed69d9a",
   "metadata": {},
   "outputs": [
    {
     "name": "stdout",
     "output_type": "stream",
     "text": [
      "Arquivo Excel com 4 abas criadas!\n"
     ]
    }
   ],
   "source": [
    "print(f\"Arquivo Excel com 4 abas criadas!\")"
   ]
  }
 ],
 "metadata": {
  "kernelspec": {
   "display_name": "Python 3",
   "language": "python",
   "name": "python3"
  },
  "language_info": {
   "codemirror_mode": {
    "name": "ipython",
    "version": 3
   },
   "file_extension": ".py",
   "mimetype": "text/x-python",
   "name": "python",
   "nbconvert_exporter": "python",
   "pygments_lexer": "ipython3",
   "version": "3.13.2"
  }
 },
 "nbformat": 4,
 "nbformat_minor": 5
}
