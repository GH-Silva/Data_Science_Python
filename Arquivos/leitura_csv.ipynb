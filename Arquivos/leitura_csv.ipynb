{
 "cells": [
  {
   "cell_type": "code",
   "execution_count": 1,
   "id": "ea9f3948",
   "metadata": {},
   "outputs": [
    {
     "name": "stdout",
     "output_type": "stream",
     "text": [
      "language -> category\n",
      "Python -> Automação\n",
      "Python -> Análise de Dados\n",
      "Python -> IA\n",
      "Javascript -> Backend\n",
      "Javascript -> Frontend\n",
      "Javascript -> Mobile\n",
      "Ruby -> Backend\n",
      "Java -> Sistemas Comerciais\n",
      "Lua -> Desenvolvimento de Jogos\n",
      "Solidity -> Smart Contracts\n",
      "Go -> Concorrência\n",
      "C# -> Jogos\n",
      "C#-Jogos\n",
      "Go-Concorrência\n",
      "Java-Sistemas Comerciais\n",
      "Javascript-Backend\n",
      "Javascript-Frontend\n",
      "Javascript-Mobile\n",
      "Lua-Desenvolvimento de Jogos\n",
      "Python-Análise de Dados\n",
      "Python-Automação\n",
      "Python-IA\n",
      "Ruby-Backend\n",
      "Solidity-Smart Contracts\n",
      "language-category\n"
     ]
    }
   ],
   "source": [
    "cursos = []\n",
    "\n",
    "with open(\"dados_2/cursos.csv\", \"r\", encoding=\"utf-8\") as df:\n",
    "    for line in df:\n",
    "\n",
    "        linguagem, categoria = line.rstrip().split(\",\")\n",
    "        print(f\"{linguagem} -> {categoria}\")\n",
    "        cursos.append(f\"{linguagem}-{categoria}\")\n",
    "    \n",
    "    for curso in sorted (cursos):\n",
    "        print(curso)"
   ]
  }
 ],
 "metadata": {
  "kernelspec": {
   "display_name": "Python 3",
   "language": "python",
   "name": "python3"
  },
  "language_info": {
   "codemirror_mode": {
    "name": "ipython",
    "version": 3
   },
   "file_extension": ".py",
   "mimetype": "text/x-python",
   "name": "python",
   "nbconvert_exporter": "python",
   "pygments_lexer": "ipython3",
   "version": "3.13.2"
  }
 },
 "nbformat": 4,
 "nbformat_minor": 5
}
