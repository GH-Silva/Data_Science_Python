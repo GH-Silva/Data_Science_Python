{
 "cells": [
  {
   "cell_type": "code",
   "execution_count": 6,
   "id": "27425dc6",
   "metadata": {},
   "outputs": [],
   "source": [
    "name = input(\"Informe o nome do aluno:\\n\")"
   ]
  },
  {
   "cell_type": "code",
   "execution_count": 7,
   "id": "5fa5d2cb",
   "metadata": {},
   "outputs": [],
   "source": [
    "# # Implementação 1\n",
    "# df = open(\"dados_2/names.txt\", \"w\")\n",
    "# df.write(f\"{name}\\n\")\n",
    "# df.close"
   ]
  },
  {
   "cell_type": "code",
   "execution_count": 8,
   "id": "374c7130",
   "metadata": {},
   "outputs": [],
   "source": [
    "with open(\"dados_2/names.txt\", \"a\", encoding=\"utf-8\") as df:\n",
    "    df.write(f\"{name}\\n\")"
   ]
  }
 ],
 "metadata": {
  "kernelspec": {
   "display_name": "Python 3",
   "language": "python",
   "name": "python3"
  },
  "language_info": {
   "codemirror_mode": {
    "name": "ipython",
    "version": 3
   },
   "file_extension": ".py",
   "mimetype": "text/x-python",
   "name": "python",
   "nbconvert_exporter": "python",
   "pygments_lexer": "ipython3",
   "version": "3.13.2"
  }
 },
 "nbformat": 4,
 "nbformat_minor": 5
}
