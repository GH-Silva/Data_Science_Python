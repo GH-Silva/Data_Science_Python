{
 "cells": [
  {
   "cell_type": "code",
   "execution_count": 13,
   "id": "cab0ca12",
   "metadata": {},
   "outputs": [],
   "source": [
    "import glob, os, zipfile"
   ]
  },
  {
   "cell_type": "code",
   "execution_count": 14,
   "id": "c533a960",
   "metadata": {},
   "outputs": [
    {
     "name": "stdout",
     "output_type": "stream",
     "text": [
      "c:\\Users\\Gabriel\\Documents\\Histórico Gabriel\\Cursos\\Udemy\\Domine a Análise de Dados\\Arquivos\n"
     ]
    }
   ],
   "source": [
    "### Diretório de trabalho atual\n",
    "print(os.getcwd())"
   ]
  },
  {
   "cell_type": "code",
   "execution_count": 15,
   "id": "a3aa6a8d",
   "metadata": {},
   "outputs": [
    {
     "name": "stdout",
     "output_type": "stream",
     "text": [
      "dados_2\\names.txt\n"
     ]
    }
   ],
   "source": [
    "### Listar todos os arquivos .txt\n",
    "for df in glob.glob(\"dados_2/*.txt\"):\n",
    "    print(df)"
   ]
  },
  {
   "cell_type": "code",
   "execution_count": 16,
   "id": "0cb435eb",
   "metadata": {},
   "outputs": [
    {
     "name": "stdout",
     "output_type": "stream",
     "text": [
      "dados_2\\cursos.csv\n"
     ]
    }
   ],
   "source": [
    "### Listar todos os arquivos .csv\n",
    "for df in glob.glob(\"dados_2/*.csv\"):\n",
    "    print(df)"
   ]
  },
  {
   "cell_type": "code",
   "execution_count": 17,
   "id": "d9ca2301",
   "metadata": {},
   "outputs": [],
   "source": [
    "### Compactar arquivos .txt\n",
    "with zipfile.ZipFile(\"dados_2/names.zip\", \"w\") as zip:\n",
    "    for df in glob.glob(\"dados_2/*.txt\"):\n",
    "        zip.write(df)"
   ]
  },
  {
   "cell_type": "code",
   "execution_count": 18,
   "id": "67de43dd",
   "metadata": {},
   "outputs": [],
   "source": [
    "### Compactar todos os arquivos\n",
    "with zipfile.ZipFile(\"dados_2/code.zip\", \"w\") as zip:\n",
    "    for df in glob.glob(\"*\"):\n",
    "        zip.write(df)"
   ]
  }
 ],
 "metadata": {
  "kernelspec": {
   "display_name": "Python 3",
   "language": "python",
   "name": "python3"
  },
  "language_info": {
   "codemirror_mode": {
    "name": "ipython",
    "version": 3
   },
   "file_extension": ".py",
   "mimetype": "text/x-python",
   "name": "python",
   "nbconvert_exporter": "python",
   "pygments_lexer": "ipython3",
   "version": "3.13.2"
  }
 },
 "nbformat": 4,
 "nbformat_minor": 5
}
