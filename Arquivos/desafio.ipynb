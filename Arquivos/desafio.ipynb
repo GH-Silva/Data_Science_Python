{
 "cells": [
  {
   "cell_type": "code",
   "execution_count": 6,
   "id": "7fb3733c",
   "metadata": {},
   "outputs": [],
   "source": [
    "import pandas as pd\n",
    "import os\n",
    "from pathlib import Path"
   ]
  },
  {
   "cell_type": "code",
   "execution_count": 7,
   "id": "1b0e180d",
   "metadata": {},
   "outputs": [],
   "source": [
    "### Importando os dados de todas as Sheets\n",
    "df = pd.read_excel(fr\"C:\\Users\\Gabriel\\Documents\\Histórico Gabriel\\Cursos\\Udemy\\Domine a Análise de Dados\\teste.xlsx\", sheet_name=None)"
   ]
  },
  {
   "cell_type": "code",
   "execution_count": 8,
   "id": "769f35e5",
   "metadata": {},
   "outputs": [
    {
     "name": "stdout",
     "output_type": "stream",
     "text": [
      "{'Dado1':    ID      Nome  Idade          Cidade\n",
      "0   1       Ana     23       São Paulo\n",
      "1   2    Carlos     30  Rio de Janeiro\n",
      "2   3     Lucas     25        Curitiba\n",
      "3   4  Fernanda     28    Porto Alegre\n",
      "4   5   Mariana     22        Salvador, 'Dado2':    ID    Nome  Idade          Cidade\n",
      "0   6    João     27       Fortaleza\n",
      "1   7   Paulo     35  Belo Horizonte\n",
      "2   8   Pedro     32          Recife\n",
      "3   9  Amanda     22        Brasilia\n",
      "4  10  Rafael     29          Manaus, 'Dado3':    ID      Nome  Idade       Cidade\n",
      "0  11   Juliana     26        Natal\n",
      "1  12    Sérgio     33       Cuiaba\n",
      "2  13  Gabriela     28      Vitória\n",
      "3  14   Eduardo     31       Maceió\n",
      "4  15     Carla     24  João Pessoa, 'Dado4':    ID     Nome  Idade         Cidade\n",
      "0  16  Ricardo     29  Florianópolis\n",
      "1  17    Tânia     26        Goiânia\n",
      "2  18    Elena     34        Aracaju\n",
      "3  19   Marcos     27   Campo Grande\n",
      "4  20  Beatriz     25          Belém}\n"
     ]
    }
   ],
   "source": [
    "print(df)"
   ]
  },
  {
   "cell_type": "code",
   "execution_count": 9,
   "id": "37ac6489",
   "metadata": {},
   "outputs": [],
   "source": [
    "### Criando a pasta 'planilha_separada' se não existir\n",
    "pasta_saida = fr\"C:\\Users\\Gabriel\\Documents\\Histórico Gabriel\\Cursos\\Udemy\\Domine a Análise de Dados\\planilhas_separadas\"\n",
    "if not os.path.exists(pasta_saida):\n",
    "    os.makedirs(pasta_saida)"
   ]
  },
  {
   "cell_type": "code",
   "execution_count": 10,
   "id": "1b4ccc8f",
   "metadata": {},
   "outputs": [],
   "source": [
    "for nome_aba, tabela in df.items():\n",
    "    caminho_arquivo = os.path.join(pasta_saida, f\"{nome_aba}.xlsx\")\n",
    "    tabela.to_excel(caminho_arquivo, index=False)"
   ]
  },
  {
   "cell_type": "code",
   "execution_count": 11,
   "id": "ff3e0b1d",
   "metadata": {},
   "outputs": [],
   "source": [
    "### Caminho para o arquivo\n",
    "arquivo_consolidado = os.path.join(pasta_saida, \"teste2.xlsx\")"
   ]
  },
  {
   "cell_type": "code",
   "execution_count": 12,
   "id": "d9cefb3a",
   "metadata": {},
   "outputs": [],
   "source": [
    "with pd.ExcelWriter(fr\"C:\\Users\\Gabriel\\Documents\\Histórico Gabriel\\Cursos\\Udemy\\Domine a Análise de Dados\\teste.xlsx\") as planilha_consolidada:\n",
    "    for arquivo in Path(pasta_saida).glob(\"*.xlsx\"):\n",
    "        tabela = pd.read_excel(arquivo)\n",
    "        tabela.to_excel(planilha_consolidada, sheet_name=arquivo.stem, index=False)"
   ]
  }
 ],
 "metadata": {
  "kernelspec": {
   "display_name": "Python 3",
   "language": "python",
   "name": "python3"
  },
  "language_info": {
   "codemirror_mode": {
    "name": "ipython",
    "version": 3
   },
   "file_extension": ".py",
   "mimetype": "text/x-python",
   "name": "python",
   "nbconvert_exporter": "python",
   "pygments_lexer": "ipython3",
   "version": "3.13.2"
  }
 },
 "nbformat": 4,
 "nbformat_minor": 5
}
