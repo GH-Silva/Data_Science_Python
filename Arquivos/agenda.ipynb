{
 "cells": [
  {
   "cell_type": "code",
   "execution_count": 1,
   "id": "2d67faac",
   "metadata": {},
   "outputs": [],
   "source": [
    "import os"
   ]
  },
  {
   "cell_type": "code",
   "execution_count": 2,
   "id": "6ee1b4ca",
   "metadata": {},
   "outputs": [],
   "source": [
    "def add_contact():\n",
    "    name = input(\"Informe o nome:\\n\")\n",
    "    address = input(\"Informe o endereço:\\n\")\n",
    "    phone = input(\"Informe o telefone:\\n\")\n",
    "\n",
    "    contact = f\"Nome: {name} \\nEndereço: {address} \\nTelefone: {phone}\\n\"\n",
    "\n",
    "    with open(\"dados_2/contatos.txt\", \"a\", encoding=\"utf-8\") as df:\n",
    "        df.write(contact)\n",
    "\n",
    "def view_contacts():\n",
    "    if not os.path.exists(\"dados_2/contatos.txt\"):\n",
    "        print(\"Lista de contatos está vazia\")\n",
    "        return\n",
    "    with open(\"dados_2/contatos.txt\", \"r\", encoding=\"utf-8\") as df:\n",
    "        contacts = df.read()\n",
    "    print(\"Lista de Contatos:\")\n",
    "    print(contacts)\n",
    "\n",
    "def delete_contacts():\n",
    "    if not os.path.exists(\"dados_2/contatos.txt\"):\n",
    "        print(\"Lista de contatos está vazia\")\n",
    "        return\n",
    "    with open(\"dados_2/contatos.txt\", \"w\", encoding=\"utf-8\") as df:\n",
    "        df.write(\"\")\n",
    "    print(\"Contatos excluídos com sucesso!\")"
   ]
  }
 ],
 "metadata": {
  "kernelspec": {
   "display_name": "Python 3",
   "language": "python",
   "name": "python3"
  },
  "language_info": {
   "codemirror_mode": {
    "name": "ipython",
    "version": 3
   },
   "file_extension": ".py",
   "mimetype": "text/x-python",
   "name": "python",
   "nbconvert_exporter": "python",
   "pygments_lexer": "ipython3",
   "version": "3.13.2"
  }
 },
 "nbformat": 4,
 "nbformat_minor": 5
}
