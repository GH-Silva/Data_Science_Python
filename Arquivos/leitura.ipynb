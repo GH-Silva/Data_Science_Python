{
 "cells": [
  {
   "cell_type": "code",
   "execution_count": 13,
   "id": "beed106e",
   "metadata": {},
   "outputs": [],
   "source": [
    "names = []"
   ]
  },
  {
   "cell_type": "code",
   "execution_count": 14,
   "id": "fd175afe",
   "metadata": {},
   "outputs": [],
   "source": [
    "# with open(\"dados_2/names.txt\", \"r\", encoding=\"utf-8\") as df:\n",
    "#     print(df.read())"
   ]
  },
  {
   "cell_type": "code",
   "execution_count": 15,
   "id": "2a1823a5",
   "metadata": {},
   "outputs": [],
   "source": [
    "with open(\"dados_2/names.txt\", \"r\", encoding=\"utf-8\") as df:\n",
    "    for line in df:\n",
    "        names.append(line.rstrip())"
   ]
  },
  {
   "cell_type": "code",
   "execution_count": 16,
   "id": "6078583b",
   "metadata": {},
   "outputs": [
    {
     "name": "stdout",
     "output_type": "stream",
     "text": [
      "Olá, Gabriel\n",
      "Olá, biel\n"
     ]
    }
   ],
   "source": [
    "for name in sorted(names):\n",
    "    print(f\"Olá, {name}\")"
   ]
  }
 ],
 "metadata": {
  "kernelspec": {
   "display_name": "Python 3",
   "language": "python",
   "name": "python3"
  },
  "language_info": {
   "codemirror_mode": {
    "name": "ipython",
    "version": 3
   },
   "file_extension": ".py",
   "mimetype": "text/x-python",
   "name": "python",
   "nbconvert_exporter": "python",
   "pygments_lexer": "ipython3",
   "version": "3.13.2"
  }
 },
 "nbformat": 4,
 "nbformat_minor": 5
}
